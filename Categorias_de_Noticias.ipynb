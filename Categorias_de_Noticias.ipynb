{
  "nbformat": 4,
  "nbformat_minor": 0,
  "metadata": {
    "colab": {
      "provenance": [],
      "authorship_tag": "ABX9TyOchB4sgwdHNdDwoO1dA0PN",
      "include_colab_link": true
    },
    "kernelspec": {
      "name": "python3",
      "display_name": "Python 3"
    },
    "language_info": {
      "name": "python"
    }
  },
  "cells": [
    {
      "cell_type": "markdown",
      "metadata": {
        "id": "view-in-github",
        "colab_type": "text"
      },
      "source": [
        "<a href=\"https://colab.research.google.com/github/LauraDanielaPradaVargas/Inteligencia-Artificial/blob/main/Categorias_de_Noticias.ipynb\" target=\"_parent\"><img src=\"https://colab.research.google.com/assets/colab-badge.svg\" alt=\"Open In Colab\"/></a>"
      ]
    },
    {
      "cell_type": "markdown",
      "source": [
        "## 1. Dependencias                                                         "
      ],
      "metadata": {
        "id": "K2aWi2zhwnZ7"
      }
    },
    {
      "cell_type": "markdown",
      "source": [
        "# --- 1. IMPORTACIONES Y CARGA DE DATOS ---\n",
        "\n",
        "# Importamos librerías necesarias"
      ],
      "metadata": {
        "id": "V27IQqog4QDa"
      }
    },
    {
      "cell_type": "code",
      "source": [
        "import re\n",
        "import nltk\n",
        "import numpy as np\n",
        "from collections import Counter, defaultdict\n",
        "\n",
        "from sklearn.datasets import fetch_20newsgroups\n",
        "from sklearn.metrics import classification_report, confusion_matrix\n",
        "\n",
        "import gensim\n",
        "from gensim import corpora\n",
        "from gensim.models import LdaModel, CoherenceModel\n",
        "from gensim.utils import simple_preprocess\n",
        "\n",
        "from nltk.corpus import stopwords"
      ],
      "metadata": {
        "id": "Q-ad7sYHwSA-"
      },
      "execution_count": 6,
      "outputs": []
    },
    {
      "cell_type": "markdown",
      "source": [
        "2. NLTK"
      ],
      "metadata": {
        "id": "G9FRFKS9wxh-"
      }
    },
    {
      "cell_type": "markdown",
      "source": [
        "# Descargamos los recursos de NLTK para eliminar stopwords (palabras vacías)"
      ],
      "metadata": {
        "id": "zSqOTHLY4jUA"
      }
    },
    {
      "cell_type": "code",
      "source": [
        "nltk.download('stopwords', quiet=True)\n",
        "stop_words = set(stopwords.words('english'))"
      ],
      "metadata": {
        "id": "ozHw2er2w2C9"
      },
      "execution_count": 7,
      "outputs": []
    },
    {
      "cell_type": "markdown",
      "source": [
        "3. Carga de Datos"
      ],
      "metadata": {
        "id": "0VEBpqK1w4nX"
      }
    },
    {
      "cell_type": "markdown",
      "source": [
        "\n",
        "# Cargamos el dataset \"20 Newsgroups\" con solo 4 categorías para simplificar el muestreo de datos necesitados"
      ],
      "metadata": {
        "id": "s0ItalQq4_vc"
      }
    },
    {
      "cell_type": "code",
      "source": [
        "categories = ['rec.sport.baseball', 'sci.electronics', 'comp.graphics', 'talk.politics.misc']\n",
        "newsgroups_data = fetch_20newsgroups(\n",
        "    subset='train',\n",
        "    categories=categories,\n",
        "    remove=('headers', 'footers', 'quotes'),\n",
        ")\n",
        "\n",
        "texts_raw = newsgroups_data.data             # lista de documentos (strings)\n",
        "y_true     = newsgroups_data.target          # labels numéricos\n",
        "target2name = {i: n for i, n in enumerate(newsgroups_data.target_names)}\n",
        "\n",
        "print(f\"Documentos: {len(texts_raw)}\")\n",
        "print(\"Clases:\", newsgroups_data.target_names)"
      ],
      "metadata": {
        "colab": {
          "base_uri": "https://localhost:8080/"
        },
        "id": "H1b5CDZAxACW",
        "outputId": "1ec13a3f-b327-4ffa-830c-56abc56928fb"
      },
      "execution_count": 8,
      "outputs": [
        {
          "output_type": "stream",
          "name": "stdout",
          "text": [
            "Documentos: 2237\n",
            "Clases: ['comp.graphics', 'rec.sport.baseball', 'sci.electronics', 'talk.politics.misc']\n"
          ]
        }
      ]
    },
    {
      "cell_type": "markdown",
      "source": [
        "4. Preprocesado"
      ],
      "metadata": {
        "id": "OP5KQdO1kUcy"
      }
    },
    {
      "cell_type": "markdown",
      "source": [
        "## Limpieza y preprocesamiento del texto"
      ],
      "metadata": {
        "id": "JDiyHnvZ5aMl"
      }
    },
    {
      "cell_type": "code",
      "source": [
        "def preprocess(doc):\n",
        "    # simple_preprocess: lower, elimina puntuación, tokeniza y filtra tokens muy cortos\n",
        "    tokens = simple_preprocess(doc, deacc=True, min_len=3, max_len=20)\n",
        "    tokens = [t for t in tokens if t not in stop_words]\n",
        "    return tokens\n",
        "\n",
        "tokenized_docs = [preprocess(t) for t in texts_raw]"
      ],
      "metadata": {
        "id": "6C8lum6yzD0C"
      },
      "execution_count": 9,
      "outputs": []
    },
    {
      "cell_type": "markdown",
      "source": [
        "## 5. Diccionario y Corpus"
      ],
      "metadata": {
        "id": "omrYpg7JzLCy"
      }
    },
    {
      "cell_type": "code",
      "source": [
        "dictionary = corpora.Dictionary(tokenized_docs)"
      ],
      "metadata": {
        "id": "M5PCkR2szRd1"
      },
      "execution_count": 10,
      "outputs": []
    },
    {
      "cell_type": "markdown",
      "source": [
        "## 6. Filtrado"
      ],
      "metadata": {
        "id": "KLThTjX-zl4v"
      }
    },
    {
      "cell_type": "code",
      "source": [
        "dictionary.filter_extremes(no_below=5, no_above=0.5, keep_n=5000)\n",
        "\n",
        "corpus_bow = [dictionary.doc2bow(doc) for doc in tokenized_docs]"
      ],
      "metadata": {
        "id": "B4VdMadczvHv"
      },
      "execution_count": 11,
      "outputs": []
    },
    {
      "cell_type": "markdown",
      "source": [
        "## 7. Entrenamiento"
      ],
      "metadata": {
        "id": "zL38ZVhdz4fr"
      }
    },
    {
      "cell_type": "code",
      "source": [
        "num_topics = 4\n",
        "lda = LdaModel(\n",
        "    corpus=corpus_bow,\n",
        "    id2word=dictionary,\n",
        "    num_topics=num_topics,\n",
        "    passes=10,\n",
        "    iterations=200,\n",
        "    alpha='auto',\n",
        "    eta='auto',\n",
        "    random_state=42,\n",
        "    eval_every=None\n",
        ")"
      ],
      "metadata": {
        "id": "o2NnxKhn0B06"
      },
      "execution_count": 12,
      "outputs": []
    },
    {
      "cell_type": "markdown",
      "source": [
        "## 8. Inspección de Temas"
      ],
      "metadata": {
        "id": "CSSHeVMD0RQO"
      }
    },
    {
      "cell_type": "code",
      "source": [
        "print(\"\\n=== Palabras clave por tema ===\")\n",
        "for k in range(num_topics):\n",
        "    terms = lda.show_topic(k, topn=12)\n",
        "    top_words = \", \".join([w for w, p in terms])\n",
        "    print(f\"Tema {k}: {top_words}\")"
      ],
      "metadata": {
        "colab": {
          "base_uri": "https://localhost:8080/"
        },
        "id": "YsmLkm950YYG",
        "outputId": "7e5e91ea-3003-48cf-e0d7-2ea9a08ba284"
      },
      "execution_count": 13,
      "outputs": [
        {
          "output_type": "stream",
          "name": "stdout",
          "text": [
            "\n",
            "=== Palabras clave por tema ===\n",
            "Tema 0: would, one, government, people, says, new, make, lost, get, drugs, national, think\n",
            "Tema 1: use, would, image, one, also, graphics, like, thanks, edu, anyone, system, need\n",
            "Tema 2: year, cubs, one, good, suck, game, better, games, hit, runs, last, players\n",
            "Tema 3: would, think, president, one, people, know, like, going, time, see, could, good\n"
          ]
        }
      ]
    },
    {
      "cell_type": "markdown",
      "source": [
        "## 9. Tema por Documento"
      ],
      "metadata": {
        "id": "Q3sI7MsF1lYk"
      }
    },
    {
      "cell_type": "code",
      "source": [
        "def dominant_topic(bow):\n",
        "    topic_dist = lda.get_document_topics(bow, minimum_probability=0.0)\n",
        "    # topic_dist es lista [(topic_id, prob), ...]\n",
        "    return max(topic_dist, key=lambda x: x[1])[0]\n",
        "\n",
        "y_topic = [dominant_topic(bow) for bow in corpus_bow]   # etiqueta \"tema\" (0..3)"
      ],
      "metadata": {
        "id": "MUW7gy_l1tSM"
      },
      "execution_count": 14,
      "outputs": []
    },
    {
      "cell_type": "markdown",
      "source": [
        "## 10.Mapeo"
      ],
      "metadata": {
        "id": "FFxi4xjg11FX"
      }
    },
    {
      "cell_type": "code",
      "source": [
        "topic_to_true_counts = defaultdict(Counter)\n",
        "for tpred, y in zip(y_topic, y_true):\n",
        "    topic_to_true_counts[tpred][y] += 1\n",
        "\n",
        "topic2label = {}\n",
        "for t in range(num_topics):\n",
        "    if topic_to_true_counts[t]:\n",
        "        # categoría (label) con mayor frecuencia dentro del tema\n",
        "        majority_label, _ = topic_to_true_counts[t].most_common(1)[0]\n",
        "        topic2label[t] = majority_label\n",
        "    else:\n",
        "        # si un tema quedó vacío, asignamos la clase mayoritaria global como fallback\n",
        "        topic2label[t] = Counter(y_true).most_common(1)[0][0]\n",
        "\n",
        "print(\"\\n=== Mapeo Tema -> Categoría (por mayoría) ===\")\n",
        "for t, lab in topic2label.items():\n",
        "    print(f\"Tema {t} -> {target2name[lab]}\")"
      ],
      "metadata": {
        "colab": {
          "base_uri": "https://localhost:8080/"
        },
        "id": "WVSz7n6y1-vS",
        "outputId": "84042587-941b-4cf7-dc5a-761dbcf3050e"
      },
      "execution_count": 15,
      "outputs": [
        {
          "output_type": "stream",
          "name": "stdout",
          "text": [
            "\n",
            "=== Mapeo Tema -> Categoría (por mayoría) ===\n",
            "Tema 0 -> talk.politics.misc\n",
            "Tema 1 -> comp.graphics\n",
            "Tema 2 -> rec.sport.baseball\n",
            "Tema 3 -> talk.politics.misc\n"
          ]
        }
      ]
    },
    {
      "cell_type": "markdown",
      "source": [
        "## 11. Predicción"
      ],
      "metadata": {
        "id": "-VySFixj2Hyq"
      }
    },
    {
      "cell_type": "code",
      "source": [
        "y_pred_labels = [topic2label[t] for t in y_topic]\n",
        "\n",
        "print(\"\\n=== Reporte de clasificación (aprox. por mapeo) ===\")\n",
        "print(classification_report(y_true, y_pred_labels, target_names=newsgroups_data.target_names))\n",
        "\n",
        "print(\"=== Matriz de confusión ===\")\n",
        "print(confusion_matrix(y_true, y_pred_labels))"
      ],
      "metadata": {
        "colab": {
          "base_uri": "https://localhost:8080/"
        },
        "id": "D-sIeLor2Nz5",
        "outputId": "c18e7b94-0391-4bc6-afb0-0d33dda58809"
      },
      "execution_count": 16,
      "outputs": [
        {
          "output_type": "stream",
          "name": "stdout",
          "text": [
            "\n",
            "=== Reporte de clasificación (aprox. por mapeo) ===\n",
            "                    precision    recall  f1-score   support\n",
            "\n",
            "     comp.graphics       0.48      0.91      0.63       584\n",
            "rec.sport.baseball       0.92      0.70      0.80       597\n",
            "   sci.electronics       0.00      0.00      0.00       591\n",
            "talk.politics.misc       0.59      0.86      0.70       465\n",
            "\n",
            "          accuracy                           0.60      2237\n",
            "         macro avg       0.50      0.62      0.53      2237\n",
            "      weighted avg       0.49      0.60      0.52      2237\n",
            "\n",
            "=== Matriz de confusión ===\n",
            "[[531   7   0  46]\n",
            " [ 57 417   0 123]\n",
            " [470   9   0 112]\n",
            " [ 48  19   0 398]]\n"
          ]
        },
        {
          "output_type": "stream",
          "name": "stderr",
          "text": [
            "/usr/local/lib/python3.12/dist-packages/sklearn/metrics/_classification.py:1565: UndefinedMetricWarning: Precision is ill-defined and being set to 0.0 in labels with no predicted samples. Use `zero_division` parameter to control this behavior.\n",
            "  _warn_prf(average, modifier, f\"{metric.capitalize()} is\", len(result))\n",
            "/usr/local/lib/python3.12/dist-packages/sklearn/metrics/_classification.py:1565: UndefinedMetricWarning: Precision is ill-defined and being set to 0.0 in labels with no predicted samples. Use `zero_division` parameter to control this behavior.\n",
            "  _warn_prf(average, modifier, f\"{metric.capitalize()} is\", len(result))\n",
            "/usr/local/lib/python3.12/dist-packages/sklearn/metrics/_classification.py:1565: UndefinedMetricWarning: Precision is ill-defined and being set to 0.0 in labels with no predicted samples. Use `zero_division` parameter to control this behavior.\n",
            "  _warn_prf(average, modifier, f\"{metric.capitalize()} is\", len(result))\n"
          ]
        }
      ]
    },
    {
      "cell_type": "markdown",
      "source": [
        "##"
      ],
      "metadata": {
        "id": "lxLdSeiGy0oM"
      }
    },
    {
      "cell_type": "markdown",
      "source": [
        "## 12. Coherencia del Modelo"
      ],
      "metadata": {
        "id": "AA83UgRI2Xkf"
      }
    },
    {
      "cell_type": "code",
      "source": [
        "coherence_model = CoherenceModel(\n",
        "    model=lda,\n",
        "    texts=tokenized_docs,\n",
        "    dictionary=dictionary,\n",
        "    coherence='c_v'\n",
        ")\n",
        "coh = coherence_model.get_coherence()\n",
        "print(f\"\\nCoherencia (c_v): {coh:.3f}\")"
      ],
      "metadata": {
        "colab": {
          "base_uri": "https://localhost:8080/"
        },
        "id": "55CnjkUl2d8F",
        "outputId": "2fe26a85-6c80-494d-8cda-d87626a4af06"
      },
      "execution_count": 17,
      "outputs": [
        {
          "output_type": "stream",
          "name": "stdout",
          "text": [
            "\n",
            "Coherencia (c_v): 0.412\n"
          ]
        }
      ]
    },
    {
      "cell_type": "markdown",
      "source": [
        "## 13. Ejemplo de Documento por Tema"
      ],
      "metadata": {
        "id": "3kKOcgdh2k4W"
      }
    },
    {
      "cell_type": "code",
      "source": [
        "def example_indices_for_topic(topic_id, k=3):\n",
        "    idxs = [i for i, t in enumerate(y_topic) if t == topic_id]\n",
        "    return idxs[:k]\n",
        "\n",
        "print(\"\\n=== Ejemplos rápidos por tema (índices y 1ª línea) ===\")\n",
        "for t in range(num_topics):\n",
        "    idxs = example_indices_for_topic(t, k=2)\n",
        "    print(f\"\\nTema {t}:\")\n",
        "    for i in idxs:\n",
        "        first_line = texts_raw[i].split(\"\\n\")[0][:120].strip()\n",
        "        print(f\" - Doc {i} | Real: {target2name[y_true[i]]} | Inicio: {first_line}\")"
      ],
      "metadata": {
        "colab": {
          "base_uri": "https://localhost:8080/"
        },
        "id": "JRBqC34H2rO8",
        "outputId": "5342dc25-3286-444e-f63d-5de0d1cfc62e"
      },
      "execution_count": 18,
      "outputs": [
        {
          "output_type": "stream",
          "name": "stdout",
          "text": [
            "\n",
            "=== Ejemplos rápidos por tema (índices y 1ª línea) ===\n",
            "\n",
            "Tema 0:\n",
            " - Doc 3 | Real: talk.politics.misc | Inicio: \n",
            " - Doc 8 | Real: talk.politics.misc | Inicio: # ##So tell me---what's immoral about homosexuality?\n",
            "\n",
            "Tema 1:\n",
            " - Doc 1 | Real: comp.graphics | Inicio: What hardware do plan to run on?  Workstation or PC?  Cost level?\n",
            " - Doc 5 | Real: rec.sport.baseball | Inicio: Does anyone know if the Twins games are broadcast in\n",
            "\n",
            "Tema 2:\n",
            " - Doc 0 | Real: rec.sport.baseball | Inicio: \n",
            " - Doc 10 | Real: rec.sport.baseball | Inicio: } In article <1993Apr14.175545.3528@alleg.edu>, millits@yankee.org (Sam\n",
            "\n",
            "Tema 3:\n",
            " - Doc 2 | Real: talk.politics.misc | Inicio: \n",
            " - Doc 4 | Real: sci.electronics | Inicio: \n"
          ]
        }
      ]
    },
    {
      "cell_type": "markdown",
      "source": [
        "**💡 Nota: En Google Colab, a veces se necesita usar pyLDAvis.enable_notebook() para que funcione bien.**"
      ],
      "metadata": {
        "id": "-7fgYJBF2ykj"
      }
    },
    {
      "cell_type": "markdown",
      "source": [
        "📝 Funciones de cada bloque\n",
        "1. Importaciones y carga\tCarga librerías y datos\n",
        "2. Preprocesamiento\tLimpia y convierte texto en tokens útiles\n",
        "3. Corpus y diccionario\tConvierte tokens a formato numérico para el modelo\n",
        "4. LDA\tEncuentra temas a partir del corpus\n",
        "5. Asignación de temas\tDecide qué tema representa mejor cada documento\n",
        "6. Visualización\t(Opcional) Visualiza temas de forma interactiva"
      ],
      "metadata": {
        "id": "ChA-5MRi6Ug8"
      }
    },
    {
      "cell_type": "markdown",
      "source": [],
      "metadata": {
        "id": "kyZOpQ8a60Hr"
      }
    }
  ]
}