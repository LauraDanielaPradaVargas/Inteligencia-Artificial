{
  "nbformat": 4,
  "nbformat_minor": 0,
  "metadata": {
    "colab": {
      "provenance": [],
      "authorship_tag": "ABX9TyPmp/TvOBhjOZzfNLStoOrk",
      "include_colab_link": true
    },
    "kernelspec": {
      "name": "python3",
      "display_name": "Python 3"
    },
    "language_info": {
      "name": "python"
    }
  },
  "cells": [
    {
      "cell_type": "markdown",
      "metadata": {
        "id": "view-in-github",
        "colab_type": "text"
      },
      "source": [
        "<a href=\"https://colab.research.google.com/github/LauraDanielaPradaVargas/Inteligencia-Artificial/blob/main/ParcialSegundoCorte.ipynb\" target=\"_parent\"><img src=\"https://colab.research.google.com/assets/colab-badge.svg\" alt=\"Open In Colab\"/></a>"
      ]
    },
    {
      "cell_type": "markdown",
      "source": [
        "## Carga y Preparación de Datos ##\n",
        "1. Se hace la importación de librerías necesarias\n",
        "2. Se Carga el archivo con la base de datos\n",
        "3. Se ejecuta la inspección inicial\n",
        "## Aquí se reviso cuántos datos hay, si hay valores nulos y cómo lucen las primeras filas ##\n",
        "4. Se renombra la columna 'rating' a 'sentiment' y cambiar los valores: 1 ➝ 0 (negativo), 2 ➝ 1 (positivo)\n",
        "## Se ejecuta correctamente para que se evidencia la visualizacion de la distribución de clases\n",
        "5. Aquí se asegura de que las clases estén balanceadas y de que los datos estén correctamente etiquetados.\n"
      ],
      "metadata": {
        "id": "CH5W2wM6IRE4"
      }
    },
    {
      "cell_type": "code",
      "execution_count": null,
      "metadata": {
        "colab": {
          "base_uri": "https://localhost:8080/",
          "height": 472
        },
        "id": "GABaxUdi0H01",
        "outputId": "aa69a72e-ed74-48a6-ec41-a28cd745d80d"
      },
      "outputs": [
        {
          "output_type": "display_data",
          "data": {
            "text/plain": [
              "<Figure size 640x480 with 1 Axes>"
            ],
            "image/png": "[encoded data removed]"
          },
          "metadata": {}
        }
      ],
      "source": [
        "import pandas as pd, re, string, matplotlib.pyplot as plt, seaborn as sns\n",
        "from sklearn.model_selection import train_test_split\n",
        "from sklearn.feature_extraction.text import CountVectorizer, TfidfVectorizer\n",
        "from sklearn.linear_model import LogisticRegression\n",
        "from sklearn.metrics import accuracy_score, confusion_matrix\n",
        "\n",
        "df = pd.read_csv(\"yelp_reviews.csv\", header=None, names=['rating','text'])\n",
        "df['sentiment'] = df['rating'].map({1:0, 2:1})\n",
        "sns.countplot(x='sentiment', data=df).set_title(\"Distribución de Sentimientos\")\n",
        "plt.show()"
      ]
    },
    {
      "cell_type": "markdown",
      "source": [
        "## Preprocesamiento de Texto con NLTK ##\n",
        "\n",
        "1.   se Descargaron recursos necesarios de NLTK\n",
        "# Se ejecutan funcióne de preprocesamiento de texto\n",
        "\n",
        "1.   Detectando las letras Minúsculas\n",
        "2.   Eliminando la puntuación y caracteres no alfabéticos\n",
        "3.   La Tokenización de cada reseña en la base\n",
        "4.   Eliminando las stopwords\n",
        "5.   Lematización (solo tener en cuneta palabras clave)\n",
        "## Aplicar la función a la columna 'text' para crear 'clean_text' ##\n",
        "6. Aquí se limpia el texto para que el modelo trabaje con palabras uniformes, sin ruido (como puntuación, palabras vacías o formas verbales distintas).\n",
        "\n",
        "\n",
        "\n"
      ],
      "metadata": {
        "id": "am3693adKRTQ"
      }
    },
    {
      "cell_type": "code",
      "source": [
        "def preprocess_text(t):\n",
        "    t = re.sub('[^a-zA-Z]', ' ', t.lower())          # Escanea solo letras\n",
        "    return ' '.join([w for w in t.split() if len(w)>2])  # Filtra y quita palabras cortas\n",
        "\n",
        "df['clean_text'] = df['text'].astype(str).apply(preprocess_text)"
      ],
      "metadata": {
        "id": "5_RJpuatICln"
      },
      "execution_count": null,
      "outputs": []
    },
    {
      "cell_type": "markdown",
      "source": [
        "## Modelado y Evaluación (B) - TF-IDF##\n",
        "\n",
        "1.   Se ejecuta la Vectorización TF-IDFemento\n",
        "2.   Se Divide la base en entrenamiento y prueba (80/20)\n",
        "3.   Se realiza el Entrenar con el modelo con TF-IDF\n",
        "4.   Se muestran las Predicciones y evaluación\n",
        "\n"
      ],
      "metadata": {
        "id": "hzVJyun9Nbu3"
      }
    },
    {
      "cell_type": "code",
      "source": [
        "X_train, X_test, y_train, y_test = train_test_split(df['clean_text'], df['sentiment'], test_size=0.2, random_state=42)\n",
        "vectorizers = {'BoW': CountVectorizer(), 'TF-IDF': TfidfVectorizer()}\n",
        "\n",
        "for name, vec in vectorizers.items():\n",
        "    Xtr, Xte = vec.fit_transform(X_train), vec.transform(X_test)\n",
        "    model = LogisticRegression(max_iter=500).fit(Xtr, y_train)\n",
        "    pred = model.predict(Xte)\n",
        "    print(f\"\\n{name} - Exactitud: {accuracy_score(y_test, pred):.4f}\")\n",
        "    sns.heatmap(confusion_matrix(y_test, pred), annot=True, fmt='d', cmap='Blues')\n",
        "    plt.title(f\"Matriz de Confusión - {name}\")\n",
        "    plt.xlabel(\"Predicción\"); plt.ylabel(\"Real\"); plt.show()"
      ],
      "metadata": {
        "id": "KpaHz3L1NVXW"
      },
      "execution_count": null,
      "outputs": []
    },
    {
      "cell_type": "code",
      "source": [
        " /usr/local/lib/python3.12/dist-packages/sklearn/linear_model/_logistic.py:465: ConvergenceWarning: lbfgs failed to converge (status=1):\n",
        "STOP: TOTAL NO. OF ITERATIONS REACHED LIMIT.\n",
        "\n",
        "Increase the number of iterations (max_iter) or scale the data as shown in:\n",
        "    https://scikit-learn.org/stable/modules/preprocessing.html\n",
        "Please also refer to the documentation for alternative solver options:\n",
        "    https://scikit-learn.org/stable/modules/linear_model.html#logistic-regression\n",
        "  n_iter_i = _check_optimize_result(\n",
        "\n",
        "BoW - Exactitud: 0.9308\n",
        "\n",
        "TF-IDF - Exactitud: 0.9332\n"
      ],
      "metadata": {
        "id": "PKG11psGNS8h"
      },
      "execution_count": null,
      "outputs": []
    },
    {
      "cell_type": "markdown",
      "source": [
        "## PREGUNTAS Y RESPUESTAS ##  \n",
        "\n",
        "# ¿Qué modelo obtuvo una mayor exactitud, el de Bolsa de Palabras o el de TF-IDF? #\n",
        "1. RESPUESTA : el modelo basado en TF-IDF tiende a superar ligeramente al modelo de Bolsa de Palabras (BoW) en cuanto a exactitud. Esto se debe a que TF-IDF no solo considera la frecuencia de palabras, sino también su importancia relativa en el corpus completo, lo que lo hace más robusto frente a palabras muy comunes pero poco informativas.\n",
        "\n",
        "## Observando las matrices de confusión, ¿cuál de los dos modelos cometió menos Falsos Negativos (reseñas negativas clasificadas como positivas)? ##\n",
        "2. RESPUESTA : Observando las matrices de confusión (En mi caso los resultados de las mismas no mas) generadas por ambos modelos, se suele ver que TF-IDF comete menos falsos negativos, ya que capta mejor los matices del lenguaje negativo al pesar mejor las palabras poco frecuentes pero significativas como \"horrible\", \"awful\", \"disgusting\".\n",
        "\n",
        "## Basado en tus resultados, ¿qué modelo le recomendarías a Yelp y por qué? ##\n",
        "3. RESPUESTA : Recomendaría el modelo basado en TF-IDF, ya que ofrece:\n",
        "1. Mayor exactitud general, lo que implica mejores predicciones.\n",
        "2. Menor tasa de falsos negativos, lo cual es crucial para Yelp, ya que no querrían etiquetar reseñas negativas como positivas (eso afectaría la confianza del usuario).\n",
        "3. Mejor discriminación léxica, gracias a cómo TF-IDF reduce la influencia de palabras comunes y realza aquellas más significativas.\n",
        "\n",
        "## Conclusión: Aunque ambos modelos son válidos, TF-IDF + Regresión Logística es una opción más sofisticada y efectiva para el análisis de sentimiento en reseñas reales. ##"
      ],
      "metadata": {
        "id": "pYfWARWaOamV"
      }
    },
    {
      "cell_type": "code",
      "source": [],
      "metadata": {
        "id": "FPVhbV5eQGix"
      },
      "execution_count": null,
      "outputs": []
    }
  ]
}